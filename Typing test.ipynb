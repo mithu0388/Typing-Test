{
 "cells": [
  {
   "cell_type": "code",
   "execution_count": null,
   "id": "919d71e0",
   "metadata": {},
   "outputs": [],
   "source": [
    "import time\n",
    "\n",
    "class TypingTest:\n",
    "    def __init__(self, text):  \n",
    "        self.text = text  \n",
    "        self.start_time =0 \n",
    "        self.end_time = 0\n",
    "        self.user_text = \"\"\n",
    "        self.accuracy = 0\n",
    "        self.time_taken = 0\n",
    "\n",
    "    def start(self): \n",
    "        print(\"Type this text as fast and accurately as possible:\")\n",
    "        print(self.text)\n",
    "\n",
    "        self.start_time = time.time()\n",
    "        self.user_text = input()\n",
    "        self.end_time = time.time() \n",
    "\n",
    "        self.accuracy = self.calculate_accuracy(self.text, self.user_text)\n",
    "        self.time_taken = self.end_time - self.start_time\n",
    "\n",
    "        print(f\"Accuracy: {self.accuracy:.2f}%\")\n",
    "        print(f\"Time taken: {self.time_taken:.2f} seconds\")\n",
    "\n",
    "    def calculate_accuracy(self, actual_text, user_text):\n",
    "        correct = 0\n",
    "        for i in range(len(user_text)):\n",
    "            if i >= len(actual_text):\n",
    "                break\n",
    "            if actual_text[i] == user_text[i]:\n",
    "                correct += 1\n",
    "        return (correct / len(actual_text)) * 100\n",
    "\n",
    "test = TypingTest(\"The five boxing wizards jump quickly.\")\n",
    "test.start()"
   ]
  }
 ],
 "metadata": {
  "kernelspec": {
   "display_name": "Python 3 (ipykernel)",
   "language": "python",
   "name": "python3"
  },
  "language_info": {
   "codemirror_mode": {
    "name": "ipython",
    "version": 3
   },
   "file_extension": ".py",
   "mimetype": "text/x-python",
   "name": "python",
   "nbconvert_exporter": "python",
   "pygments_lexer": "ipython3",
   "version": "3.9.13"
  }
 },
 "nbformat": 4,
 "nbformat_minor": 5
}
